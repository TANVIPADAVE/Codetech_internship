{
  "nbformat": 4,
  "nbformat_minor": 0,
  "metadata": {
    "colab": {
      "provenance": [],
      "authorship_tag": "ABX9TyNCw5PAwt/Kmyagctinh/9M",
      "include_colab_link": true
    },
    "kernelspec": {
      "name": "python3",
      "display_name": "Python 3"
    },
    "language_info": {
      "name": "python"
    }
  },
  "cells": [
    {
      "cell_type": "markdown",
      "metadata": {
        "id": "view-in-github",
        "colab_type": "text"
      },
      "source": [
        "<a href=\"https://colab.research.google.com/github/TANVIPADAVE/Codetech_internship/blob/main/FRAUD_DETECTION_IN_FINANCIAL_TRANSACTIONS.ipynb\" target=\"_parent\"><img src=\"https://colab.research.google.com/assets/colab-badge.svg\" alt=\"Open In Colab\"/></a>"
      ]
    },
    {
      "cell_type": "code",
      "execution_count": 1,
      "metadata": {
        "colab": {
          "base_uri": "https://localhost:8080/"
        },
        "id": "8GldaY-JUpFY",
        "outputId": "d212ff1d-be69-4f77-ffed-04ecedb1e387"
      },
      "outputs": [
        {
          "output_type": "stream",
          "name": "stdout",
          "text": [
            "Requirement already satisfied: pandas in /usr/local/lib/python3.10/dist-packages (2.1.4)\n",
            "Requirement already satisfied: numpy in /usr/local/lib/python3.10/dist-packages (1.26.4)\n",
            "Requirement already satisfied: scikit-learn in /usr/local/lib/python3.10/dist-packages (1.5.2)\n",
            "Requirement already satisfied: matplotlib in /usr/local/lib/python3.10/dist-packages (3.7.1)\n",
            "Requirement already satisfied: seaborn in /usr/local/lib/python3.10/dist-packages (0.13.1)\n",
            "Requirement already satisfied: python-dateutil>=2.8.2 in /usr/local/lib/python3.10/dist-packages (from pandas) (2.8.2)\n",
            "Requirement already satisfied: pytz>=2020.1 in /usr/local/lib/python3.10/dist-packages (from pandas) (2024.2)\n",
            "Requirement already satisfied: tzdata>=2022.1 in /usr/local/lib/python3.10/dist-packages (from pandas) (2024.1)\n",
            "Requirement already satisfied: scipy>=1.6.0 in /usr/local/lib/python3.10/dist-packages (from scikit-learn) (1.13.1)\n",
            "Requirement already satisfied: joblib>=1.2.0 in /usr/local/lib/python3.10/dist-packages (from scikit-learn) (1.4.2)\n",
            "Requirement already satisfied: threadpoolctl>=3.1.0 in /usr/local/lib/python3.10/dist-packages (from scikit-learn) (3.5.0)\n",
            "Requirement already satisfied: contourpy>=1.0.1 in /usr/local/lib/python3.10/dist-packages (from matplotlib) (1.3.0)\n",
            "Requirement already satisfied: cycler>=0.10 in /usr/local/lib/python3.10/dist-packages (from matplotlib) (0.12.1)\n",
            "Requirement already satisfied: fonttools>=4.22.0 in /usr/local/lib/python3.10/dist-packages (from matplotlib) (4.53.1)\n",
            "Requirement already satisfied: kiwisolver>=1.0.1 in /usr/local/lib/python3.10/dist-packages (from matplotlib) (1.4.7)\n",
            "Requirement already satisfied: packaging>=20.0 in /usr/local/lib/python3.10/dist-packages (from matplotlib) (24.1)\n",
            "Requirement already satisfied: pillow>=6.2.0 in /usr/local/lib/python3.10/dist-packages (from matplotlib) (10.4.0)\n",
            "Requirement already satisfied: pyparsing>=2.3.1 in /usr/local/lib/python3.10/dist-packages (from matplotlib) (3.1.4)\n",
            "Requirement already satisfied: six>=1.5 in /usr/local/lib/python3.10/dist-packages (from python-dateutil>=2.8.2->pandas) (1.16.0)\n"
          ]
        }
      ],
      "source": [
        "!pip install pandas numpy scikit-learn matplotlib seaborn\n"
      ]
    },
    {
      "cell_type": "code",
      "source": [
        "import pandas as pd\n",
        "import numpy as np\n",
        "\n",
        "# Set random seed for reproducibility\n",
        "np.random.seed(42)\n",
        "\n",
        "# Parameters for the dataset\n",
        "num_samples = 1000\n",
        "num_fraudulent = 50  # Number of fraudulent transactions\n",
        "\n",
        "# Generate synthetic transaction data\n",
        "data = {\n",
        "    'TransactionID': np.arange(num_samples),\n",
        "    'Amount': np.random.normal(loc=100, scale=50, size=num_samples).clip(0),  # Amounts cannot be negative\n",
        "    'TransactionTime': pd.date_range(start='2023-01-01', periods=num_samples, freq='H'),\n",
        "    'Merchant': np.random.choice(['Merchant_A', 'Merchant_B', 'Merchant_C'], size=num_samples),\n",
        "    'UserID': np.random.randint(1, 200, size=num_samples),\n",
        "}\n",
        "\n",
        "# Create DataFrame\n",
        "df = pd.DataFrame(data)\n",
        "\n",
        "# Introduce fraudulent transactions (randomly change some legitimate transactions)\n",
        "fraud_indices = np.random.choice(num_samples, size=num_fraudulent, replace=False)\n",
        "df.loc[fraud_indices, 'Amount'] *= 5  # Increase amount for fraudulent transactions\n",
        "df.loc[fraud_indices, 'IsFraud'] = 1  # Mark as fraud\n",
        "df['IsFraud'] = df.get('IsFraud', 0)  # Mark legitimate transactions\n",
        "\n",
        "# Save to CSV\n",
        "df.to_csv('synthetic_financial_transactions.csv', index=False)\n",
        "print(\"Synthetic data generated and saved as 'synthetic_financial_transactions.csv'\")\n"
      ],
      "metadata": {
        "colab": {
          "base_uri": "https://localhost:8080/"
        },
        "id": "MlTvYwPJVFd2",
        "outputId": "5aee376f-3834-417c-96d1-ba745f18e40f"
      },
      "execution_count": 2,
      "outputs": [
        {
          "output_type": "stream",
          "name": "stdout",
          "text": [
            "Synthetic data generated and saved as 'synthetic_financial_transactions.csv'\n"
          ]
        }
      ]
    },
    {
      "cell_type": "code",
      "source": [
        "from google.colab import files\n",
        "files.download('synthetic_financial_transactions.csv')\n"
      ],
      "metadata": {
        "colab": {
          "base_uri": "https://localhost:8080/",
          "height": 17
        },
        "id": "G31CITzIVK17",
        "outputId": "489bd356-8995-4f55-8616-7c7e90668127"
      },
      "execution_count": 3,
      "outputs": [
        {
          "output_type": "display_data",
          "data": {
            "text/plain": [
              "<IPython.core.display.Javascript object>"
            ],
            "application/javascript": [
              "\n",
              "    async function download(id, filename, size) {\n",
              "      if (!google.colab.kernel.accessAllowed) {\n",
              "        return;\n",
              "      }\n",
              "      const div = document.createElement('div');\n",
              "      const label = document.createElement('label');\n",
              "      label.textContent = `Downloading \"${filename}\": `;\n",
              "      div.appendChild(label);\n",
              "      const progress = document.createElement('progress');\n",
              "      progress.max = size;\n",
              "      div.appendChild(progress);\n",
              "      document.body.appendChild(div);\n",
              "\n",
              "      const buffers = [];\n",
              "      let downloaded = 0;\n",
              "\n",
              "      const channel = await google.colab.kernel.comms.open(id);\n",
              "      // Send a message to notify the kernel that we're ready.\n",
              "      channel.send({})\n",
              "\n",
              "      for await (const message of channel.messages) {\n",
              "        // Send a message to notify the kernel that we're ready.\n",
              "        channel.send({})\n",
              "        if (message.buffers) {\n",
              "          for (const buffer of message.buffers) {\n",
              "            buffers.push(buffer);\n",
              "            downloaded += buffer.byteLength;\n",
              "            progress.value = downloaded;\n",
              "          }\n",
              "        }\n",
              "      }\n",
              "      const blob = new Blob(buffers, {type: 'application/binary'});\n",
              "      const a = document.createElement('a');\n",
              "      a.href = window.URL.createObjectURL(blob);\n",
              "      a.download = filename;\n",
              "      div.appendChild(a);\n",
              "      a.click();\n",
              "      div.remove();\n",
              "    }\n",
              "  "
            ]
          },
          "metadata": {}
        },
        {
          "output_type": "display_data",
          "data": {
            "text/plain": [
              "<IPython.core.display.Javascript object>"
            ],
            "application/javascript": [
              "download(\"download_08064dfb-ed60-4532-a339-5afa0a48b215\", \"synthetic_financial_transactions.csv\", 57724)"
            ]
          },
          "metadata": {}
        }
      ]
    },
    {
      "cell_type": "code",
      "source": [
        "import pandas as pd\n",
        "import numpy as np\n",
        "\n",
        "# Set random seed for reproducibility\n",
        "np.random.seed(42)\n",
        "\n",
        "# Parameters for the dataset\n",
        "num_samples = 1000\n",
        "num_fraudulent = 50  # Number of fraudulent transactions\n",
        "\n",
        "# Generate synthetic transaction data\n",
        "data = {\n",
        "    'TransactionID': np.arange(num_samples),\n",
        "    'Amount': np.random.normal(loc=100, scale=50, size=num_samples).clip(0),  # Amounts cannot be negative\n",
        "    'TransactionTime': pd.date_range(start='2023-01-01', periods=num_samples, freq='H'),\n",
        "    'Merchant': np.random.choice(['Merchant_A', 'Merchant_B', 'Merchant_C'], size=num_samples),\n",
        "    'UserID': np.random.randint(1, 200, size=num_samples),\n",
        "}\n",
        "\n",
        "# Create DataFrame\n",
        "df = pd.DataFrame(data)\n",
        "\n",
        "# Introduce fraudulent transactions (randomly change some legitimate transactions)\n",
        "fraud_indices = np.random.choice(num_samples, size=num_fraudulent, replace=False)\n",
        "df.loc[fraud_indices, 'Amount'] *= 5  # Increase amount for fraudulent transactions\n",
        "df.loc[fraud_indices, 'IsFraud'] = 1  # Mark as fraud\n",
        "df['IsFraud'] = df.get('IsFraud', 0)  # Mark legitimate transactions\n",
        "\n",
        "# Display the first few rows of the dataset\n",
        "print(\"First few rows of the dataset:\")\n",
        "print(df.head())\n"
      ],
      "metadata": {
        "colab": {
          "base_uri": "https://localhost:8080/"
        },
        "id": "96ska-l2Y-Pu",
        "outputId": "7714f7c5-966e-4dc4-d3f8-ae8fbb99c82e"
      },
      "execution_count": 7,
      "outputs": [
        {
          "output_type": "stream",
          "name": "stdout",
          "text": [
            "First few rows of the dataset:\n",
            "   TransactionID      Amount     TransactionTime    Merchant  UserID  IsFraud\n",
            "0              0  124.835708 2023-01-01 00:00:00  Merchant_C     113      NaN\n",
            "1              1   93.086785 2023-01-01 01:00:00  Merchant_A      94      NaN\n",
            "2              2  132.384427 2023-01-01 02:00:00  Merchant_C     118      NaN\n",
            "3              3  176.151493 2023-01-01 03:00:00  Merchant_A     198      NaN\n",
            "4              4   88.292331 2023-01-01 04:00:00  Merchant_C      81      NaN\n"
          ]
        }
      ]
    },
    {
      "cell_type": "code",
      "source": [
        "# Check for missing values\n",
        "print(\"\\nMissing values in each column:\")\n",
        "print(df.isnull().sum())\n",
        "\n",
        "# Display summary statistics\n",
        "print(\"\\nSummary statistics of the dataset:\")\n",
        "print(df.describe())\n",
        "\n",
        "# Check the distribution of the target variable (IsFraud)\n",
        "fraud_distribution = df['IsFraud'].value_counts(normalize=True) * 100\n",
        "print(\"\\nDistribution of Fraudulent Transactions (as percentage):\")\n",
        "print(fraud_distribution)\n"
      ],
      "metadata": {
        "colab": {
          "base_uri": "https://localhost:8080/"
        },
        "id": "E-bAGKZuZFup",
        "outputId": "91c8c3db-4300-4b67-bd27-9f2bfe55bee6"
      },
      "execution_count": 8,
      "outputs": [
        {
          "output_type": "stream",
          "name": "stdout",
          "text": [
            "\n",
            "Missing values in each column:\n",
            "TransactionID        0\n",
            "Amount               0\n",
            "TransactionTime      0\n",
            "Merchant             0\n",
            "UserID               0\n",
            "IsFraud            950\n",
            "dtype: int64\n",
            "\n",
            "Summary statistics of the dataset:\n",
            "       TransactionID       Amount                TransactionTime       UserID  \\\n",
            "count    1000.000000  1000.000000                           1000  1000.000000   \n",
            "mean      499.500000   121.917196  2023-01-21 19:29:59.999999744   102.575000   \n",
            "min         0.000000     0.000000            2023-01-01 00:00:00     1.000000   \n",
            "25%       249.750000    69.983883            2023-01-11 09:45:00    52.750000   \n",
            "50%       499.500000   103.534208            2023-01-21 19:30:00   106.000000   \n",
            "75%       749.250000   137.415849            2023-02-01 05:15:00   153.000000   \n",
            "max       999.000000  1131.733106            2023-02-11 15:00:00   199.000000   \n",
            "std       288.819436   119.861373                            NaN    57.199407   \n",
            "\n",
            "       IsFraud  \n",
            "count     50.0  \n",
            "mean       1.0  \n",
            "min        1.0  \n",
            "25%        1.0  \n",
            "50%        1.0  \n",
            "75%        1.0  \n",
            "max        1.0  \n",
            "std        0.0  \n",
            "\n",
            "Distribution of Fraudulent Transactions (as percentage):\n",
            "IsFraud\n",
            "1.0    100.0\n",
            "Name: proportion, dtype: float64\n"
          ]
        }
      ]
    },
    {
      "cell_type": "code",
      "source": [
        "# 1. Fill missing values (if any)\n",
        "df.fillna(method='ffill', inplace=True)  # Forward fill for demonstration; you can choose a suitable method\n",
        "\n",
        "# 2. Encode categorical variables\n",
        "df = pd.get_dummies(df, columns=['Merchant'], drop_first=True)\n",
        "\n",
        "# 3. Feature scaling\n",
        "from sklearn.preprocessing import StandardScaler\n",
        "\n",
        "# Separate features and target variable\n",
        "X = df.drop(['TransactionID', 'TransactionTime', 'IsFraud'], axis=1)\n",
        "y = df['IsFraud']\n",
        "\n",
        "# Scale the features\n",
        "scaler = StandardScaler()\n",
        "X_scaled = scaler.fit_transform(X)\n",
        "\n",
        "# Display the scaled features\n",
        "print(\"Scaled Features (first 5 rows):\")\n",
        "print(X_scaled[:5])\n"
      ],
      "metadata": {
        "colab": {
          "base_uri": "https://localhost:8080/"
        },
        "id": "Fay5EX5LZJYz",
        "outputId": "919fd241-4bec-4fa9-c2be-247eb2c6f9f2"
      },
      "execution_count": 9,
      "outputs": [
        {
          "output_type": "stream",
          "name": "stderr",
          "text": [
            "<ipython-input-9-c335b323ec48>:2: FutureWarning: DataFrame.fillna with 'method' is deprecated and will raise in a future version. Use obj.ffill() or obj.bfill() instead.\n",
            "  df.fillna(method='ffill', inplace=True)  # Forward fill for demonstration; you can choose a suitable method\n"
          ]
        },
        {
          "output_type": "stream",
          "name": "stdout",
          "text": [
            "Scaled Features (first 5 rows):\n",
            "[[ 0.02436124  0.18234833 -0.7273596   1.47465358]\n",
            " [-0.24065165 -0.14998916 -0.7273596  -0.67812537]\n",
            " [ 0.0873715   0.26980556 -0.7273596   1.47465358]\n",
            " [ 0.45270159  1.6691213  -0.7273596  -0.67812537]\n",
            " [-0.28067166 -0.37737796 -0.7273596   1.47465358]]\n"
          ]
        }
      ]
    },
    {
      "cell_type": "code",
      "source": [
        "from sklearn.model_selection import train_test_split\n",
        "\n",
        "# Split into training and testing sets\n",
        "X_train, X_test, y_train, y_test = train_test_split(X_scaled, y, test_size=0.2, random_state=42)\n",
        "\n",
        "print(\"Training set size:\", X_train.shape)\n",
        "print(\"Testing set size:\", X_test.shape)\n"
      ],
      "metadata": {
        "colab": {
          "base_uri": "https://localhost:8080/"
        },
        "id": "Uaz8-0t5ZT0u",
        "outputId": "fc40361a-87ee-4a83-ea59-987d0da5c169"
      },
      "execution_count": 10,
      "outputs": [
        {
          "output_type": "stream",
          "name": "stdout",
          "text": [
            "Training set size: (800, 4)\n",
            "Testing set size: (200, 4)\n"
          ]
        }
      ]
    },
    {
      "cell_type": "code",
      "source": [
        "from sklearn.ensemble import IsolationForest\n",
        "\n",
        "# Initialize and fit the Isolation Forest model\n",
        "iso_forest = IsolationForest(contamination=0.05)  # Adjust contamination based on your dataset\n",
        "iso_forest.fit(X_train)\n",
        "\n",
        "# Predict anomalies\n",
        "y_pred_iso = iso_forest.predict(X_test)\n",
        "y_pred_iso = [1 if x == -1 else 0 for x in y_pred_iso]  # Convert -1 (anomaly) to 1, 1 (normal) to 0\n"
      ],
      "metadata": {
        "id": "ct2JzNaQZWpZ"
      },
      "execution_count": 11,
      "outputs": []
    },
    {
      "cell_type": "code",
      "source": [
        "import pandas as pd\n",
        "import numpy as np\n",
        "\n",
        "# Set random seed for reproducibility\n",
        "np.random.seed(42)\n",
        "\n",
        "# Parameters for the dataset\n",
        "num_samples = 1000\n",
        "num_fraudulent = 50  # Number of fraudulent transactions\n",
        "\n",
        "# Generate synthetic transaction data\n",
        "data = {\n",
        "    'TransactionID': np.arange(num_samples),\n",
        "    'Amount': np.random.normal(loc=100, scale=50, size=num_samples).clip(0),  # Amounts cannot be negative\n",
        "    'TransactionTime': pd.date_range(start='2023-01-01', periods=num_samples, freq='H'),\n",
        "    'Merchant': np.random.choice(['Merchant_A', 'Merchant_B', 'Merchant_C'], size=num_samples),\n",
        "    'UserID': np.random.randint(1, 200, size=num_samples),\n",
        "}\n",
        "\n",
        "# Create DataFrame\n",
        "df = pd.DataFrame(data)\n",
        "\n",
        "# Initialize IsFraud column to 0 (not fraudulent)\n",
        "df['IsFraud'] = 0\n",
        "\n",
        "# Introduce fraudulent transactions (randomly change some legitimate transactions)\n",
        "fraud_indices = np.random.choice(num_samples, size=num_fraudulent, replace=False)\n",
        "df.loc[fraud_indices, 'Amount'] *= 5  # Increase amount for fraudulent transactions\n",
        "df.loc[fraud_indices, 'IsFraud'] = 1  # Mark as fraud\n",
        "\n",
        "# Display the first few rows of the dataset\n",
        "print(\"First few rows of the dataset:\")\n",
        "print(df.head())\n"
      ],
      "metadata": {
        "colab": {
          "base_uri": "https://localhost:8080/"
        },
        "id": "9S4ww_GdZ1i7",
        "outputId": "1256b248-8a1a-42b4-8a6b-73b88d3d147c"
      },
      "execution_count": 15,
      "outputs": [
        {
          "output_type": "stream",
          "name": "stdout",
          "text": [
            "First few rows of the dataset:\n",
            "   TransactionID      Amount     TransactionTime    Merchant  UserID  IsFraud\n",
            "0              0  124.835708 2023-01-01 00:00:00  Merchant_C     113        0\n",
            "1              1   93.086785 2023-01-01 01:00:00  Merchant_A      94        0\n",
            "2              2  132.384427 2023-01-01 02:00:00  Merchant_C     118        0\n",
            "3              3  176.151493 2023-01-01 03:00:00  Merchant_A     198        0\n",
            "4              4   88.292331 2023-01-01 04:00:00  Merchant_C      81        0\n"
          ]
        }
      ]
    },
    {
      "cell_type": "code",
      "source": [
        "# Fill missing values (if any)\n",
        "df.fillna(method='ffill', inplace=True)  # Forward fill for demonstration\n",
        "\n",
        "# Encode categorical variables\n",
        "df = pd.get_dummies(df, columns=['Merchant'], drop_first=True)\n",
        "\n",
        "# Separate features and target variable\n",
        "X = df.drop(['TransactionID', 'TransactionTime', 'IsFraud'], axis=1)\n",
        "y = df['IsFraud']\n",
        "\n",
        "# Scale the features\n",
        "from sklearn.preprocessing import StandardScaler\n",
        "scaler = StandardScaler()\n",
        "X_scaled = scaler.fit_transform(X)\n",
        "\n",
        "# Split into training and testing sets\n",
        "from sklearn.model_selection import train_test_split\n",
        "X_train, X_test, y_train, y_test = train_test_split(X_scaled, y, test_size=0.2, random_state=42)\n",
        "\n",
        "# Check for NaN values in y_test again\n",
        "print(\"Checking for NaN values in y_test after split:\")\n",
        "print(\"NaN in y_test:\", np.any(np.isnan(y_test)))\n"
      ],
      "metadata": {
        "colab": {
          "base_uri": "https://localhost:8080/"
        },
        "id": "uCvlBg2zZ3ew",
        "outputId": "7d90f4b6-7be9-4fe9-d820-b4dd29bab11b"
      },
      "execution_count": 16,
      "outputs": [
        {
          "output_type": "stream",
          "name": "stdout",
          "text": [
            "Checking for NaN values in y_test after split:\n",
            "NaN in y_test: False\n"
          ]
        },
        {
          "output_type": "stream",
          "name": "stderr",
          "text": [
            "<ipython-input-16-00e562b230cc>:2: FutureWarning: DataFrame.fillna with 'method' is deprecated and will raise in a future version. Use obj.ffill() or obj.bfill() instead.\n",
            "  df.fillna(method='ffill', inplace=True)  # Forward fill for demonstration\n"
          ]
        }
      ]
    },
    {
      "cell_type": "code",
      "source": [
        "from sklearn.ensemble import IsolationForest\n",
        "\n",
        "# Initialize and fit the Isolation Forest model\n",
        "iso_forest = IsolationForest(contamination=0.05)  # Adjust contamination based on your dataset\n",
        "iso_forest.fit(X_train)\n",
        "\n",
        "# Predict anomalies\n",
        "y_pred_iso = iso_forest.predict(X_test)\n",
        "y_pred_iso = [1 if x == -1 else 0 for x in y_pred_iso]  # Convert -1 (anomaly) to 1, 1 (normal) to 0\n",
        "\n",
        "# Evaluate the model\n",
        "print(\"Isolation Forest Performance:\")\n",
        "print(\"Confusion Matrix:\")\n",
        "print(confusion_matrix(y_test, y_pred_iso))\n",
        "print(\"\\nClassification Report:\")\n",
        "print(classification_report(y_test, y_pred_iso))\n"
      ],
      "metadata": {
        "colab": {
          "base_uri": "https://localhost:8080/"
        },
        "id": "UUs4sE1rZ7kg",
        "outputId": "0577ba13-1de8-4579-bb8f-1eabe89acc81"
      },
      "execution_count": 17,
      "outputs": [
        {
          "output_type": "stream",
          "name": "stdout",
          "text": [
            "Isolation Forest Performance:\n",
            "Confusion Matrix:\n",
            "[[181   3]\n",
            " [  3  13]]\n",
            "\n",
            "Classification Report:\n",
            "              precision    recall  f1-score   support\n",
            "\n",
            "           0       0.98      0.98      0.98       184\n",
            "           1       0.81      0.81      0.81        16\n",
            "\n",
            "    accuracy                           0.97       200\n",
            "   macro avg       0.90      0.90      0.90       200\n",
            "weighted avg       0.97      0.97      0.97       200\n",
            "\n"
          ]
        }
      ]
    },
    {
      "cell_type": "code",
      "source": [
        "import seaborn as sns\n",
        "import matplotlib.pyplot as plt\n",
        "from sklearn.metrics import confusion_matrix\n",
        "\n",
        "# Create a confusion matrix\n",
        "cm = confusion_matrix(y_test, y_pred_iso)\n",
        "\n",
        "# Plot the confusion matrix\n",
        "plt.figure(figsize=(8, 6))\n",
        "sns.heatmap(cm, annot=True, fmt='d', cmap='Blues', xticklabels=['Not Fraud', 'Fraud'], yticklabels=['Not Fraud', 'Fraud'])\n",
        "plt.ylabel('Actual')\n",
        "plt.xlabel('Predicted')\n",
        "plt.title('Confusion Matrix')\n",
        "plt.show()\n"
      ],
      "metadata": {
        "colab": {
          "base_uri": "https://localhost:8080/",
          "height": 564
        },
        "id": "4uk7FJ-4Z-xV",
        "outputId": "f01a11f8-045a-400e-8569-9212524906c0"
      },
      "execution_count": 18,
      "outputs": [
        {
          "output_type": "display_data",
          "data": {
            "text/plain": [
              "<Figure size 800x600 with 2 Axes>"
            ],
            "image/png": "[encoded data removed]"
          },
          "metadata": {}
        }
      ]
    },
    {
      "cell_type": "code",
      "source": [
        "from sklearn.ensemble import RandomForestClassifier\n",
        "\n",
        "# Train a Random Forest model for feature importance\n",
        "rf_model = RandomForestClassifier()\n",
        "rf_model.fit(X_train, y_train)\n",
        "\n",
        "# Get feature importances\n",
        "importances = rf_model.feature_importances_\n",
        "\n",
        "# Create a DataFrame for feature importances\n",
        "features = X.columns\n",
        "importance_df = pd.DataFrame({'Feature': features, 'Importance': importances}).sort_values(by='Importance', ascending=False)\n",
        "\n",
        "# Plot feature importances\n",
        "plt.figure(figsize=(10, 6))\n",
        "sns.barplot(x='Importance', y='Feature', data=importance_df)\n",
        "plt.title('Feature Importances')\n",
        "plt.show()\n"
      ],
      "metadata": {
        "colab": {
          "base_uri": "https://localhost:8080/",
          "height": 564
        },
        "id": "o8V5y2NZaS6G",
        "outputId": "953adcf8-fad6-47e9-e061-1662dc71b495"
      },
      "execution_count": 19,
      "outputs": [
        {
          "output_type": "display_data",
          "data": {
            "text/plain": [
              "<Figure size 1000x600 with 1 Axes>"
            ],
            "image/png": "[encoded data removed]"
          },
          "metadata": {}
        }
      ]
    }
  ]
}